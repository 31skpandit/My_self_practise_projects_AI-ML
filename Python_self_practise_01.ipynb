{
 "cells": [
  {
   "cell_type": "code",
   "execution_count": 1,
   "id": "a94db48c-1ee6-4572-ab12-a400f30c0eee",
   "metadata": {},
   "outputs": [],
   "source": [
    "def square_fun(n):\n",
    "    ans = n*n\n",
    "    return[ans]"
   ]
  },
  {
   "cell_type": "code",
   "execution_count": 2,
   "id": "a597ada5-0d1b-42b9-8bbe-d57d67e7f9a5",
   "metadata": {},
   "outputs": [
    {
     "data": {
      "text/plain": [
       "[4]"
      ]
     },
     "execution_count": 2,
     "metadata": {},
     "output_type": "execute_result"
    }
   ],
   "source": [
    "square_fun(2)"
   ]
  },
  {
   "cell_type": "code",
   "execution_count": 3,
   "id": "b477cb8c-a729-423e-901c-3a2d6823109e",
   "metadata": {},
   "outputs": [],
   "source": [
    "def square_fun(n):\n",
    "    ans = n*n\n",
    "    return ans"
   ]
  },
  {
   "cell_type": "code",
   "execution_count": 4,
   "id": "b8f4713a-b20b-4fb7-b05a-39094b86c8e1",
   "metadata": {},
   "outputs": [
    {
     "data": {
      "text/plain": [
       "4"
      ]
     },
     "execution_count": 4,
     "metadata": {},
     "output_type": "execute_result"
    }
   ],
   "source": [
    "square_fun(2)"
   ]
  },
  {
   "cell_type": "code",
   "execution_count": 4,
   "id": "cdd1fd29-0e6f-41d9-92db-6cb88b6f216a",
   "metadata": {},
   "outputs": [
    {
     "name": "stdin",
     "output_type": "stream",
     "text": [
      "please provide numbers 2\n",
      "please provide numbers 3\n",
      "please provide numbers 4\n",
      "please provide numbers 5\n",
      "please provide numbers 6\n"
     ]
    },
    {
     "name": "stdout",
     "output_type": "stream",
     "text": [
      "[2, 3, 4, 5, 6]\n"
     ]
    }
   ],
   "source": [
    "def CollectData():\n",
    "    data = []\n",
    "    for i in range(5):\n",
    "        entry = int(input(\"please provide numbers\"))\n",
    "        data.append(entry)\n",
    "    return data\n",
    "\n",
    "print(CollectData())"
   ]
  },
  {
   "cell_type": "code",
   "execution_count": 1,
   "id": "61f8769e-2757-43cd-908a-46f8dfdba4d8",
   "metadata": {},
   "outputs": [
    {
     "ename": "ModuleNotFoundError",
     "evalue": "No module named 'math_utils'",
     "output_type": "error",
     "traceback": [
      "\u001b[1;31m---------------------------------------------------------------------------\u001b[0m",
      "\u001b[1;31mModuleNotFoundError\u001b[0m                       Traceback (most recent call last)",
      "Cell \u001b[1;32mIn[1], line 2\u001b[0m\n\u001b[0;32m      1\u001b[0m \u001b[38;5;66;03m# main.py\u001b[39;00m\n\u001b[1;32m----> 2\u001b[0m \u001b[38;5;28;01mimport\u001b[39;00m \u001b[38;5;21;01mmath_utils\u001b[39;00m\n\u001b[0;32m      4\u001b[0m result \u001b[38;5;241m=\u001b[39m math_utils\u001b[38;5;241m.\u001b[39madd(\u001b[38;5;241m5\u001b[39m, \u001b[38;5;241m3\u001b[39m)\n\u001b[0;32m      5\u001b[0m \u001b[38;5;28mprint\u001b[39m(result)\n",
      "\u001b[1;31mModuleNotFoundError\u001b[0m: No module named 'math_utils'"
     ]
    }
   ],
   "source": [
    "# main.py\n",
    "import math_utils\n",
    "\n",
    "result = math_utils.add(5, 3)\n",
    "print(result)  # Output: 8\n"
   ]
  },
  {
   "cell_type": "code",
   "execution_count": 4,
   "id": "efdfba17-5eb4-4074-b1af-2c9d99eb3458",
   "metadata": {},
   "outputs": [
    {
     "name": "stdout",
     "output_type": "stream",
     "text": [
      "Name Sam\n",
      "Age 43\n",
      "Address Gyandeep\n"
     ]
    }
   ],
   "source": [
    "def details(Name, Age, Address):\n",
    "    print('Name', Name)\n",
    "    print('Age', Age)\n",
    "    print('Address', Address)\n",
    "\n",
    "details('Sam', 43, 'Gyandeep')"
   ]
  },
  {
   "cell_type": "code",
   "execution_count": 5,
   "id": "271725b3-c014-4c9a-a1dc-1898cbabfb72",
   "metadata": {},
   "outputs": [
    {
     "name": "stdout",
     "output_type": "stream",
     "text": [
      "Name Sam\n",
      "Age 43\n",
      "Address Gyandeep\n"
     ]
    }
   ],
   "source": [
    "def details(Name, Age, Address):\n",
    "    print('Name', Name)\n",
    "    print('Age', Age)\n",
    "    print('Address', Address)\n",
    "\n",
    "details('Sam', 43, 'Gyandeep')"
   ]
  },
  {
   "cell_type": "code",
   "execution_count": 6,
   "id": "7c90a2f2-7d4f-4b01-ada2-e42f4b357000",
   "metadata": {},
   "outputs": [
    {
     "data": {
      "text/plain": [
       "9"
      ]
     },
     "execution_count": 6,
     "metadata": {},
     "output_type": "execute_result"
    }
   ],
   "source": [
    "def find_square(n):\n",
    "    n = n*n\n",
    "    return n\n",
    "\n",
    "find_square(3)"
   ]
  },
  {
   "cell_type": "code",
   "execution_count": 8,
   "id": "b20a4386-0683-425d-9547-e5fb7ce2b679",
   "metadata": {},
   "outputs": [
    {
     "name": "stdout",
     "output_type": "stream",
     "text": [
      "The number  10 is EVEN\n"
     ]
    }
   ],
   "source": [
    "def odd_even(n):\n",
    "    if n%2==0:\n",
    "        print('The number ',n,'is EVEN')\n",
    "    if n%3==0:\n",
    "        print('The number ',n,'is ODD')\n",
    "\n",
    "odd_even(10)"
   ]
  },
  {
   "cell_type": "code",
   "execution_count": 10,
   "id": "77502f12-7c4c-451a-9549-8177e8f2ec4f",
   "metadata": {},
   "outputs": [
    {
     "name": "stdout",
     "output_type": "stream",
     "text": [
      "Sam Bahadur Singh\n"
     ]
    }
   ],
   "source": [
    "def full_name(first, second, third):\n",
    "    name = \"{} {} {}\".format(first, second, third)\n",
    "    print(name)\n",
    "\n",
    "full_name('Sam', 'Bahadur', 'Singh')"
   ]
  },
  {
   "cell_type": "code",
   "execution_count": 14,
   "id": "63f87ba8-4262-49db-ad85-b21780dd84ef",
   "metadata": {},
   "outputs": [
    {
     "name": "stdout",
     "output_type": "stream",
     "text": [
      "Famous city : Delhi\n"
     ]
    }
   ],
   "source": [
    "def myfunc(city = 'Mumbai'):\n",
    "    print('Famous city :', city)\n",
    "\n",
    "myfunc('Delhi')"
   ]
  },
  {
   "cell_type": "code",
   "execution_count": 15,
   "id": "154ffbd3-52cc-4587-97de-7b329cb6d74d",
   "metadata": {},
   "outputs": [],
   "source": [
    "# done till 62/118"
   ]
  },
  {
   "cell_type": "code",
   "execution_count": 1,
   "id": "69fa1364-d7c9-4cf4-a3bc-68a4091a9385",
   "metadata": {},
   "outputs": [
    {
     "name": "stdout",
     "output_type": "stream",
     "text": [
      "9\n"
     ]
    }
   ],
   "source": [
    "my_string = \"In 2010, someone paid 10k Bitcoin for two pizzas.\"\n",
    "\n",
    "print(my_string.find('s'))"
   ]
  },
  {
   "cell_type": "code",
   "execution_count": 6,
   "id": "87ebbcab-1299-4f07-a910-6786ae7be99d",
   "metadata": {},
   "outputs": [
    {
     "name": "stdout",
     "output_type": "stream",
     "text": [
      "In 2010, someone paid 10k Bitcoin for two pizzas.\n"
     ]
    }
   ],
   "source": [
    "my_string = \"In 2010, someone paid 10k Bitcoin for two pizzas.\"\n",
    "\n",
    "print(my_string.replace())"
   ]
  },
  {
   "cell_type": "code",
   "execution_count": 8,
   "id": "b44a148f-b517-4b8f-92da-7e6a7bea9d69",
   "metadata": {},
   "outputs": [
    {
     "name": "stdout",
     "output_type": "stream",
     "text": [
      "In 2010, someone paid 10k Bitcoin  for two pizzas.\n"
     ]
    }
   ],
   "source": [
    "my_string = \"In %s, someone paid %s %s for two pizzas.\"\n",
    "\n",
    "print(\"In %s, someone paid %s %s for two pizzas.\"%(2010,'10k','Bitcoin '))"
   ]
  },
  {
   "cell_type": "code",
   "execution_count": 10,
   "id": "61329333-963d-4176-8428-01ef09cb456f",
   "metadata": {},
   "outputs": [
    {
     "name": "stdout",
     "output_type": "stream",
     "text": [
      "In 2010, someone paid 10k Bitcoin for two pizzas.\n"
     ]
    }
   ],
   "source": [
    "my_string = \"In %s, someone paid %s %s for two pizzas.\"\n",
    "\n",
    "print(\"In %s, someone paid %s %s for two pizzas.\"%(\"2010\",\"10k\",\"Bitcoin\"))"
   ]
  },
  {
   "cell_type": "code",
   "execution_count": 13,
   "id": "3cc8d171-557d-4d4e-89df-614b7c0c94ff",
   "metadata": {},
   "outputs": [
    {
     "name": "stdout",
     "output_type": "stream",
     "text": [
      "2010\n"
     ]
    }
   ],
   "source": [
    "my_string = \"In 2010, someone paid 10k Bitcoin for two pizzas.\"\n",
    "\n",
    "print(my_string[3:7])"
   ]
  },
  {
   "cell_type": "code",
   "execution_count": 14,
   "id": "dc4815b7-e708-470c-892e-ca32d42fbeef",
   "metadata": {},
   "outputs": [
    {
     "name": "stdout",
     "output_type": "stream",
     "text": [
      ".sazzip owt rof nioctiB k01 diap enoemos ,0102 nI\n"
     ]
    }
   ],
   "source": [
    "my_string = \"In 2010, someone paid 10k Bitcoin for two pizzas.\"\n",
    "\n",
    "print(my_string[::-1])"
   ]
  },
  {
   "cell_type": "code",
   "execution_count": 15,
   "id": "cfb58e36-7972-48e1-860a-a68119cf8459",
   "metadata": {},
   "outputs": [
    {
     "name": "stdout",
     "output_type": "stream",
     "text": [
      "I,n top\n"
     ]
    }
   ],
   "source": [
    "my_string = \"In 2010, someone paid 10k Bitcoin for two pizzas.\"\n",
    " \n",
    "print(my_string[::7])\n"
   ]
  },
  {
   "cell_type": "code",
   "execution_count": null,
   "id": "f2a436bc-9e79-49e9-93ba-e319fe4cb69f",
   "metadata": {},
   "outputs": [],
   "source": []
  },
  {
   "cell_type": "code",
   "execution_count": null,
   "id": "af513f2b-4318-4a2a-8ef6-31025ff05c9f",
   "metadata": {},
   "outputs": [],
   "source": []
  }
 ],
 "metadata": {
  "kernelspec": {
   "display_name": "Python 3 (ipykernel)",
   "language": "python",
   "name": "python3"
  },
  "language_info": {
   "codemirror_mode": {
    "name": "ipython",
    "version": 3
   },
   "file_extension": ".py",
   "mimetype": "text/x-python",
   "name": "python",
   "nbconvert_exporter": "python",
   "pygments_lexer": "ipython3",
   "version": "3.12.4"
  }
 },
 "nbformat": 4,
 "nbformat_minor": 5
}

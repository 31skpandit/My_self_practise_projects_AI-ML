{
 "cells": [
  {
   "cell_type": "code",
   "execution_count": 4,
   "id": "d727624a-29d8-4462-9807-e7aacb6c723c",
   "metadata": {},
   "outputs": [],
   "source": [
    "a = [\"Santosh\""
   ]
  },
  {
   "cell_type": "code",
   "execution_count": 2,
   "id": "9771804c-96cd-45bd-8367-98877e555c26",
   "metadata": {},
   "outputs": [
    {
     "data": {
      "text/plain": [
       "4"
      ]
     },
     "execution_count": 2,
     "metadata": {},
     "output_type": "execute_result"
    }
   ],
   "source": [
    "a.index(\"o\")"
   ]
  },
  {
   "cell_type": "code",
   "execution_count": 3,
   "id": "d8fe4394-0d1e-4da1-890d-3944e9ca757c",
   "metadata": {},
   "outputs": [
    {
     "data": {
      "text/plain": [
       "1"
      ]
     },
     "execution_count": 3,
     "metadata": {},
     "output_type": "execute_result"
    }
   ],
   "source": [
    "a.count(\"a\")"
   ]
  },
  {
   "cell_type": "code",
   "execution_count": 5,
   "id": "25096c59-1a17-4971-9a98-e9d81f62bc60",
   "metadata": {},
   "outputs": [
    {
     "data": {
      "text/plain": [
       "'santosh'"
      ]
     },
     "execution_count": 5,
     "metadata": {},
     "output_type": "execute_result"
    }
   ],
   "source": [
    "a.lower()"
   ]
  },
  {
   "cell_type": "code",
   "execution_count": 6,
   "id": "33e55c50-c72c-4235-9a0a-64cb4dcbcc9f",
   "metadata": {},
   "outputs": [
    {
     "data": {
      "text/plain": [
       "'SANTOSH'"
      ]
     },
     "execution_count": 6,
     "metadata": {},
     "output_type": "execute_result"
    }
   ],
   "source": [
    "a.upper()"
   ]
  },
  {
   "cell_type": "code",
   "execution_count": 7,
   "id": "30b86afd-3985-46bb-9842-d33e5c067a06",
   "metadata": {},
   "outputs": [
    {
     "data": {
      "text/plain": [
       "True"
      ]
     },
     "execution_count": 7,
     "metadata": {},
     "output_type": "execute_result"
    }
   ],
   "source": [
    "a.startswith(\"S\")"
   ]
  },
  {
   "cell_type": "code",
   "execution_count": 9,
   "id": "641c1757-4867-4f5b-a29b-dcce376c6f4c",
   "metadata": {},
   "outputs": [
    {
     "data": {
      "text/plain": [
       "False"
      ]
     },
     "execution_count": 9,
     "metadata": {},
     "output_type": "execute_result"
    }
   ],
   "source": [
    "a.endswith(\"S\")"
   ]
  },
  {
   "cell_type": "code",
   "execution_count": 17,
   "id": "aeebe12c-b663-4fbd-9d39-f5561482ad34",
   "metadata": {},
   "outputs": [],
   "source": [
    "a = (\"Santosh \")"
   ]
  },
  {
   "cell_type": "code",
   "execution_count": 18,
   "id": "450df6ef-beb6-4cc8-a4ac-9d8d8e8f7c70",
   "metadata": {},
   "outputs": [
    {
     "data": {
      "text/plain": [
       "'Santosh'"
      ]
     },
     "execution_count": 18,
     "metadata": {},
     "output_type": "execute_result"
    }
   ],
   "source": [
    "a.strip()"
   ]
  },
  {
   "cell_type": "code",
   "execution_count": 22,
   "id": "be8c5b73-6d94-4a24-9e5e-315f2ff456d1",
   "metadata": {},
   "outputs": [
    {
     "name": "stdout",
     "output_type": "stream",
     "text": [
      "San tosh\n"
     ]
    }
   ],
   "source": [
    "a = \"San  tosh \"\n",
    "a = ' '.join(a.split())\n",
    "\n",
    "print(a)  # Output: 'San tosh'\n"
   ]
  },
  {
   "cell_type": "code",
   "execution_count": 3,
   "id": "21171d56-c921-47c8-952a-37436d686210",
   "metadata": {},
   "outputs": [
    {
     "name": "stdout",
     "output_type": "stream",
     "text": [
      "santosh\n"
     ]
    }
   ],
   "source": [
    "a = \"San  tosh \"\n",
    "a = ''.join(['san', 'tosh'])\n",
    "print(a)"
   ]
  },
  {
   "cell_type": "code",
   "execution_count": 4,
   "id": "0eb67f3f-0984-479c-af23-eac17d883c13",
   "metadata": {},
   "outputs": [
    {
     "name": "stdout",
     "output_type": "stream",
     "text": [
      "sanban\n"
     ]
    }
   ],
   "source": [
    "a = 'san'\n",
    "b = 'ban'\n",
    "\n",
    "print(a+b)"
   ]
  },
  {
   "cell_type": "code",
   "execution_count": 5,
   "id": "1be65154-c4ef-4439-90b8-e926ea9f7937",
   "metadata": {},
   "outputs": [
    {
     "name": "stdout",
     "output_type": "stream",
     "text": [
      "sansansan\n"
     ]
    }
   ],
   "source": [
    "print(a*3)"
   ]
  },
  {
   "cell_type": "code",
   "execution_count": 6,
   "id": "4e6104ee-7ea9-4dac-9de4-2a1362f5e37f",
   "metadata": {},
   "outputs": [
    {
     "data": {
      "text/plain": [
       "False"
      ]
     },
     "execution_count": 6,
     "metadata": {},
     "output_type": "execute_result"
    }
   ],
   "source": [
    "a in b\n"
   ]
  },
  {
   "cell_type": "code",
   "execution_count": 8,
   "id": "72a28ac2-64ff-4526-b817-43d62ee3dc14",
   "metadata": {},
   "outputs": [
    {
     "name": "stdout",
     "output_type": "stream",
     "text": [
      "Value of a is san and of b is ban\n"
     ]
    }
   ],
   "source": [
    "a = 'san'\n",
    "b = 'ban'\n",
    "\n",
    "print(f\"Value of a is {a} and of b is {b}\")"
   ]
  },
  {
   "cell_type": "code",
   "execution_count": 9,
   "id": "65012505-336c-48c6-8c13-e7324cc8c6a8",
   "metadata": {},
   "outputs": [
    {
     "data": {
      "text/plain": [
       "9"
      ]
     },
     "execution_count": 9,
     "metadata": {},
     "output_type": "execute_result"
    }
   ],
   "source": [
    "abs(-9)"
   ]
  },
  {
   "cell_type": "code",
   "execution_count": 10,
   "id": "6bee49bb-7f17-493c-bf8d-e57889c94e53",
   "metadata": {},
   "outputs": [
    {
     "data": {
      "text/plain": [
       "False"
      ]
     },
     "execution_count": 10,
     "metadata": {},
     "output_type": "execute_result"
    }
   ],
   "source": [
    "not(1==1)"
   ]
  },
  {
   "cell_type": "code",
   "execution_count": 12,
   "id": "5511a6fe-5d73-47b6-81c1-d3b8f01b57ee",
   "metadata": {},
   "outputs": [
    {
     "name": "stdout",
     "output_type": "stream",
     "text": [
      "[6, 5, 4, 3, 2, 1]\n"
     ]
    }
   ],
   "source": [
    "list = [1,2,3,4,5,6]\n",
    "list.sort(reverse = True)\n",
    "print(list)"
   ]
  },
  {
   "cell_type": "code",
   "execution_count": 13,
   "id": "3d5fab59-acaa-4a2c-8e30-07273970bfe4",
   "metadata": {},
   "outputs": [
    {
     "data": {
      "text/plain": [
       "[]"
      ]
     },
     "execution_count": 13,
     "metadata": {},
     "output_type": "execute_result"
    }
   ],
   "source": [
    "list.clear()\n",
    "list"
   ]
  },
  {
   "cell_type": "code",
   "execution_count": 16,
   "id": "7f6e0a3d-2786-49d0-b5db-344d1a95c6f8",
   "metadata": {},
   "outputs": [],
   "source": [
    "dict1 = {'a':1, 'b':2, 'c':3}"
   ]
  },
  {
   "cell_type": "code",
   "execution_count": 17,
   "id": "3a4d3dfc-9a21-46db-b7fe-68da54446af3",
   "metadata": {},
   "outputs": [
    {
     "data": {
      "text/plain": [
       "dict_keys(['a', 'b', 'c'])"
      ]
     },
     "execution_count": 17,
     "metadata": {},
     "output_type": "execute_result"
    }
   ],
   "source": [
    "dict1.keys()\n"
   ]
  },
  {
   "cell_type": "code",
   "execution_count": 18,
   "id": "bd41b910-2601-49ee-8260-470422ad20ac",
   "metadata": {},
   "outputs": [
    {
     "data": {
      "text/plain": [
       "dict_values([1, 2, 3])"
      ]
     },
     "execution_count": 18,
     "metadata": {},
     "output_type": "execute_result"
    }
   ],
   "source": [
    "dict1.values()"
   ]
  },
  {
   "cell_type": "code",
   "execution_count": 24,
   "id": "e345207a-87a2-4263-9923-680b57526f96",
   "metadata": {},
   "outputs": [
    {
     "data": {
      "text/plain": [
       "dict_items([('a', 1), ('b', 2), ('c', 3)])"
      ]
     },
     "execution_count": 24,
     "metadata": {},
     "output_type": "execute_result"
    }
   ],
   "source": [
    "dict1.items()"
   ]
  },
  {
   "cell_type": "code",
   "execution_count": 26,
   "id": "1181b691-57cd-40dd-b5f8-3c4fdc6c683b",
   "metadata": {},
   "outputs": [
    {
     "name": "stdout",
     "output_type": "stream",
     "text": [
      "7\n",
      "8\n",
      "Outside the loop\n",
      "14\n",
      "8\n",
      "Outside the loop\n",
      "21\n",
      "8\n",
      "Outside the loop\n",
      "28\n",
      "8\n",
      "Outside the loop\n",
      "35\n",
      "8\n",
      "Outside the loop\n",
      "42\n",
      "8\n",
      "Outside the loop\n"
     ]
    }
   ],
   "source": [
    "list1 = [1,2,3,4,5,6]\n",
    "list2 = [7,8,9,10]\n",
    "\n",
    "for i in list1:\n",
    "    for j in list2:\n",
    "        if j == 8:\n",
    "            print(j)\n",
    "            break\n",
    "        print(i*j)\n",
    "    print('Outside the loop')"
   ]
  },
  {
   "cell_type": "code",
   "execution_count": 27,
   "id": "d0ef4f45-2bba-442a-aacd-857c3db7538c",
   "metadata": {},
   "outputs": [
    {
     "name": "stdout",
     "output_type": "stream",
     "text": [
      "7\n",
      "9\n",
      "10\n",
      "Outside the loop\n",
      "14\n",
      "18\n",
      "20\n",
      "Outside the loop\n",
      "21\n",
      "27\n",
      "30\n",
      "Outside the loop\n",
      "28\n",
      "36\n",
      "40\n",
      "Outside the loop\n",
      "35\n",
      "45\n",
      "50\n",
      "Outside the loop\n",
      "42\n",
      "54\n",
      "60\n",
      "Outside the loop\n"
     ]
    }
   ],
   "source": [
    "list1 = [1,2,3,4,5,6]\n",
    "list2 = [7,8,9,10]\n",
    "\n",
    "for i in list1:\n",
    "    for j in list2:\n",
    "        if j == 8:\n",
    "            continue\n",
    "        print(i*j)\n",
    "    print('Outside the loop')"
   ]
  },
  {
   "cell_type": "code",
   "execution_count": 30,
   "id": "168314de-0189-46ca-8ae9-218c6e0e246a",
   "metadata": {},
   "outputs": [
    {
     "name": "stdout",
     "output_type": "stream",
     "text": [
      "0\n",
      "0\n",
      "1\n",
      "2\n",
      "2\n",
      "4\n",
      "3\n",
      "6\n",
      "4\n",
      "8\n",
      "5\n",
      "10\n",
      "6\n",
      "12\n",
      "7\n",
      "14\n",
      "8\n",
      "16\n",
      "9\n",
      "18\n"
     ]
    }
   ],
   "source": [
    "for i in range(10):\n",
    "    print(i)\n",
    "    pass\n",
    "    print(i*2)"
   ]
  },
  {
   "cell_type": "code",
   "execution_count": null,
   "id": "91ca0787-9b5e-47f2-98db-be76066c6f27",
   "metadata": {},
   "outputs": [],
   "source": [
    "# Try creating a class called Car with attributes like brand, model, year — and a method to describe it."
   ]
  },
  {
   "cell_type": "code",
   "execution_count": 5,
   "id": "42d935ac-2de1-4433-a62d-6970788bc259",
   "metadata": {},
   "outputs": [
    {
     "name": "stdout",
     "output_type": "stream",
     "text": [
      "This is my car and its details are Mercedes with X40, manufactured in 1994\n"
     ]
    }
   ],
   "source": [
    "class car:\n",
    "    def __init__(self, brand, model, year):\n",
    "        self.brand = brand\n",
    "        self.model = model\n",
    "        self.year = year\n",
    "\n",
    "    def describe(self):\n",
    "        return f\"This is my car and its details are {self.brand} with {self.model}, manufactured in {self.year}\"\n",
    "\n",
    "my_model_car = car(\"Mercedes\", \"X40\", 1994)\n",
    "print(my_model_car.describe())"
   ]
  },
  {
   "cell_type": "code",
   "execution_count": null,
   "id": "b1d3d383-6ffb-4fa9-964d-a398d65ee8ab",
   "metadata": {},
   "outputs": [],
   "source": [
    "Write a class Book with:\n",
    "Attributes: title, author, pages\n",
    "Methods:\n",
    "description() → prints “Book: [title] by [author] with [pages] pages.”\n",
    "is_long() → returns True if pages > 300"
   ]
  },
  {
   "cell_type": "code",
   "execution_count": 19,
   "id": "df466c17-a532-4d94-a46b-209df1c13bfa",
   "metadata": {},
   "outputs": [
    {
     "name": "stdout",
     "output_type": "stream",
     "text": [
      "The books details DataScience by Santosh with 350 nos. of pages\n",
      "False\n"
     ]
    }
   ],
   "source": [
    "class Book:\n",
    "    def __init__(self, title, author, pages):\n",
    "        self.title = title\n",
    "        self.author = author\n",
    "        self.pages = pages\n",
    "\n",
    "    def description(self):\n",
    "        return f\"The books details {self.title} by {self.author} with {self.pages} nos. of pages\"\n",
    "\n",
    "    def is_long(self):\n",
    "        if self.pages < 300:\n",
    "            return \"True\"\n",
    "        else:\n",
    "            return \"False\"\n",
    "\n",
    "my_book = Book(\"DataScience\", \"Santosh\", 350)\n",
    "\n",
    "print(my_book.description())\n",
    "print(my_book.is_long())\n",
    "        "
   ]
  },
  {
   "cell_type": "code",
   "execution_count": 27,
   "id": "22a20348-f48a-4707-b43b-efd69576b6e9",
   "metadata": {},
   "outputs": [
    {
     "data": {
      "text/plain": [
       "10"
      ]
     },
     "execution_count": 27,
     "metadata": {},
     "output_type": "execute_result"
    }
   ],
   "source": [
    "def my_gen(x,y):\n",
    "    while x<=y:\n",
    "        yield y\n",
    "        x+=1\n",
    "gen = my_gen(5,10)\n",
    "next(gen)"
   ]
  },
  {
   "cell_type": "code",
   "execution_count": 28,
   "id": "7a220c80-14cf-4690-9b76-7cc5926be233",
   "metadata": {},
   "outputs": [
    {
     "data": {
      "text/plain": [
       "10"
      ]
     },
     "execution_count": 28,
     "metadata": {},
     "output_type": "execute_result"
    }
   ],
   "source": [
    "def my_gen(x,y):\n",
    "    while x<=y:\n",
    "        yield y\n",
    "        x+=1\n",
    "next(my_gen(5,10))"
   ]
  },
  {
   "cell_type": "code",
   "execution_count": 4,
   "id": "4cfe0421-cc47-4c3f-a381-85720f5b96e4",
   "metadata": {},
   "outputs": [],
   "source": [
    "class Donut:\n",
    "    def __init__ (self, flavour, size, price):\n",
    "        self.flavour = flavour\n",
    "        self.size = size\n",
    "        self.price = price"
   ]
  },
  {
   "cell_type": "code",
   "execution_count": 5,
   "id": "6ba9229b-d863-4e6b-813e-4718d77cc626",
   "metadata": {},
   "outputs": [
    {
     "name": "stdout",
     "output_type": "stream",
     "text": [
      "tasty\n"
     ]
    }
   ],
   "source": [
    "my_donut = Donut('tasty', '50kg', 100)\n",
    "print(my_donut.flavour)"
   ]
  },
  {
   "cell_type": "code",
   "execution_count": 8,
   "id": "2db2d15d-af96-4a4d-b912-7327b8c80d29",
   "metadata": {},
   "outputs": [
    {
     "name": "stdout",
     "output_type": "stream",
     "text": [
      "This pizza is tasty of size 50Kgs and having price of 50\n"
     ]
    }
   ],
   "source": [
    "class Donut:\n",
    "    def __init__ (self, flavour, size, price):\n",
    "        self.flavour = flavour\n",
    "        self.size = size\n",
    "        self.price = price\n",
    "\n",
    "    def describe(self):\n",
    "        return f\"This pizza is {self.flavour} of size {self.size} and having price of {self.price}\"\n",
    "\n",
    "\n",
    "my_pizza = Donut(\"tasty\", \"50Kgs\", 50)\n",
    "print(my_pizza.describe())"
   ]
  },
  {
   "cell_type": "code",
   "execution_count": null,
   "id": "93752d1d-cb73-47a1-bb75-9c4ca86ff1a7",
   "metadata": {},
   "outputs": [],
   "source": [
    "Write a class Book with:\n",
    "\n",
    "Attributes: title, author, pages\n",
    "\n",
    "Methods:\n",
    "\n",
    "description() → prints “Book: [title] by [author] with [pages] pages.”\n",
    "\n",
    "is_long() → returns True if pages > 300"
   ]
  },
  {
   "cell_type": "code",
   "execution_count": 18,
   "id": "15d33f5d-5654-4912-8ed0-965272d15ebc",
   "metadata": {},
   "outputs": [
    {
     "name": "stdout",
     "output_type": "stream",
     "text": [
      "Book: Thermodynamics by P.K.Nag with 100 pages\n"
     ]
    }
   ],
   "source": [
    "class book:\n",
    "    def __init__ (self, title, author, pages):\n",
    "        self.title = title\n",
    "        self.author = author\n",
    "        self.pages = pages\n",
    "\n",
    "    def description (self):\n",
    "        return f\"Book: {self.title} by {self.author} with {self.pages} pages\"\n",
    "\n",
    "\n",
    "my_book = book(\"Thermodynamics\", \"P.K.Nag\", 100)\n",
    "print(my_book.description())"
   ]
  },
  {
   "cell_type": "code",
   "execution_count": null,
   "id": "2a6cd7cd-de31-4bee-a7a0-751e7ee6cab6",
   "metadata": {},
   "outputs": [],
   "source": [
    "class animal:\n",
    "    def __init__(self,name):\n",
    "        self.name = name\n",
    "\n",
    "    def speak(self):\n",
    "        return f\"self.name"
   ]
  },
  {
   "cell_type": "code",
   "execution_count": null,
   "id": "e139bb03-dd64-4522-a5ea-8d82d89f97f3",
   "metadata": {},
   "outputs": [],
   "source": [
    "class Dog(animal):\n",
    "    def speak(self):\n",
    "        return f\""
   ]
  },
  {
   "cell_type": "code",
   "execution_count": null,
   "id": "2cdd4d6b-cc98-4a90-9aa4-8fe1bcfd70cc",
   "metadata": {},
   "outputs": [],
   "source": []
  },
  {
   "cell_type": "code",
   "execution_count": null,
   "id": "5b6382ec-fb07-4858-8606-5d3a62bd9ab6",
   "metadata": {},
   "outputs": [],
   "source": []
  }
 ],
 "metadata": {
  "kernelspec": {
   "display_name": "Python 3 (ipykernel)",
   "language": "python",
   "name": "python3"
  },
  "language_info": {
   "codemirror_mode": {
    "name": "ipython",
    "version": 3
   },
   "file_extension": ".py",
   "mimetype": "text/x-python",
   "name": "python",
   "nbconvert_exporter": "python",
   "pygments_lexer": "ipython3",
   "version": "3.12.4"
  }
 },
 "nbformat": 4,
 "nbformat_minor": 5
}

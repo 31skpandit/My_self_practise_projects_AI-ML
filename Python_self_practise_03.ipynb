{
 "cells": [
  {
   "cell_type": "code",
   "execution_count": 3,
   "id": "c3d7e940-58ed-4e62-9d5e-33f949c0135a",
   "metadata": {},
   "outputs": [
    {
     "name": "stdout",
     "output_type": "stream",
     "text": [
      "True\n"
     ]
    }
   ],
   "source": [
    "a = \"string\"\n",
    "print(isinstance(a,str))"
   ]
  },
  {
   "cell_type": "code",
   "execution_count": 7,
   "id": "848491c4-5d0c-47e5-95b9-d9965809ab46",
   "metadata": {},
   "outputs": [],
   "source": [
    "str1 = \"HELLO PYTHON\""
   ]
  },
  {
   "cell_type": "code",
   "execution_count": 13,
   "id": "a3c912b1-530c-4f27-aa5c-b00a81357e93",
   "metadata": {},
   "outputs": [
    {
     "data": {
      "text/plain": [
       "'HON'"
      ]
     },
     "execution_count": 13,
     "metadata": {},
     "output_type": "execute_result"
    }
   ],
   "source": [
    "str1[-3:]"
   ]
  },
  {
   "cell_type": "code",
   "execution_count": 15,
   "id": "890e63ef-dfc4-43dc-a382-cc4b28313750",
   "metadata": {},
   "outputs": [],
   "source": [
    "str1 = \"HELLO PYTHON\""
   ]
  },
  {
   "cell_type": "code",
   "execution_count": 19,
   "id": "990aa7af-de25-4596-838b-eceb09ef52c1",
   "metadata": {},
   "outputs": [],
   "source": [
    "b = str1.split()"
   ]
  },
  {
   "cell_type": "code",
   "execution_count": 20,
   "id": "2263a57e-7416-4e8b-bc98-972333614fdd",
   "metadata": {},
   "outputs": [
    {
     "name": "stdout",
     "output_type": "stream",
     "text": [
      "['HELLO', 'PYTHON']\n"
     ]
    }
   ],
   "source": [
    "print(b)"
   ]
  },
  {
   "cell_type": "code",
   "execution_count": 21,
   "id": "ea10416c-0622-4906-bede-81a0fbb7d546",
   "metadata": {},
   "outputs": [
    {
     "ename": "AttributeError",
     "evalue": "'list' object has no attribute 'split'",
     "output_type": "error",
     "traceback": [
      "\u001b[1;31m---------------------------------------------------------------------------\u001b[0m",
      "\u001b[1;31mAttributeError\u001b[0m                            Traceback (most recent call last)",
      "Cell \u001b[1;32mIn[21], line 1\u001b[0m\n\u001b[1;32m----> 1\u001b[0m b\u001b[38;5;241m.\u001b[39msplit()\n",
      "\u001b[1;31mAttributeError\u001b[0m: 'list' object has no attribute 'split'"
     ]
    }
   ],
   "source": [
    "b.split()"
   ]
  },
  {
   "cell_type": "code",
   "execution_count": 22,
   "id": "d3c08986-5ebf-47bb-9095-2c61735d8808",
   "metadata": {},
   "outputs": [],
   "source": [
    "str1 = \"HELLO,PYTHON\""
   ]
  },
  {
   "cell_type": "code",
   "execution_count": null,
   "id": "507ab44a-763c-42c0-b42c-d9dee9c655cb",
   "metadata": {},
   "outputs": [],
   "source": []
  },
  {
   "cell_type": "code",
   "execution_count": 24,
   "id": "abf62eee-fd43-4701-8757-f91bb390c2e2",
   "metadata": {},
   "outputs": [
    {
     "name": "stdout",
     "output_type": "stream",
     "text": [
      "['HELLO PYTHON']\n"
     ]
    }
   ],
   "source": [
    "b = str1.split(\",\")\n",
    "print(b)"
   ]
  },
  {
   "cell_type": "code",
   "execution_count": 26,
   "id": "c27d06b9-539d-4c31-89ff-c9071a23ec4d",
   "metadata": {},
   "outputs": [
    {
     "name": "stdout",
     "output_type": "stream",
     "text": [
      "['HELLO PYTHON']\n"
     ]
    }
   ],
   "source": [
    "c = str(b)\n",
    "print(c)"
   ]
  },
  {
   "cell_type": "code",
   "execution_count": 35,
   "id": "93a038d3-2a5a-4830-9daf-adae924f87e2",
   "metadata": {},
   "outputs": [],
   "source": [
    "mystr1 = \"Hello,Everyone\"\n"
   ]
  },
  {
   "cell_type": "code",
   "execution_count": 36,
   "id": "9c4abfae-c167-4466-9ca1-e789b642b0db",
   "metadata": {},
   "outputs": [
    {
     "name": "stdout",
     "output_type": "stream",
     "text": [
      "['Hello', 'Everyone']\n"
     ]
    }
   ],
   "source": [
    "new_str=mystr1.split(\",\")\n",
    "print(new_str)"
   ]
  },
  {
   "cell_type": "code",
   "execution_count": 37,
   "id": "046b0283-e24d-49af-80aa-ce43625ec52e",
   "metadata": {},
   "outputs": [
    {
     "name": "stdout",
     "output_type": "stream",
     "text": [
      "HelloEveryone\n"
     ]
    }
   ],
   "source": [
    "new_str2=\"\".join(new_str)\n",
    "print(new_str2)"
   ]
  },
  {
   "cell_type": "code",
   "execution_count": 38,
   "id": "79098619-0d1d-49d5-aafc-28ff19098480",
   "metadata": {},
   "outputs": [
    {
     "data": {
      "text/plain": [
       "str"
      ]
     },
     "execution_count": 38,
     "metadata": {},
     "output_type": "execute_result"
    }
   ],
   "source": [
    "type(new_str2)"
   ]
  },
  {
   "cell_type": "code",
   "execution_count": 39,
   "id": "b539c61c-1859-43c3-b3b0-f9933112b5de",
   "metadata": {},
   "outputs": [
    {
     "name": "stdout",
     "output_type": "stream",
     "text": [
      "(0, 'H')\n",
      "(1, 'e')\n",
      "(2, 'l')\n",
      "(3, 'l')\n",
      "(4, 'o')\n",
      "(5, ',')\n",
      "(6, 'E')\n",
      "(7, 'v')\n",
      "(8, 'e')\n",
      "(9, 'r')\n",
      "(10, 'y')\n",
      "(11, 'o')\n",
      "(12, 'n')\n",
      "(13, 'e')\n"
     ]
    }
   ],
   "source": [
    "for i in enumerate(mystr1):\n",
    "    print(i)"
   ]
  },
  {
   "cell_type": "code",
   "execution_count": 40,
   "id": "d87a2a04-9e88-40fa-bcde-797cdfb4e555",
   "metadata": {},
   "outputs": [],
   "source": [
    "str4 = \"one five two fifty three four  six fifty seven fifty bye\""
   ]
  },
  {
   "cell_type": "code",
   "execution_count": 41,
   "id": "d71e1a79-3e80-42c6-abe6-d8704aefeb8d",
   "metadata": {},
   "outputs": [
    {
     "name": "stdout",
     "output_type": "stream",
     "text": [
      "['one', 'five', 'two', 'fifty', 'three', 'four', 'six', 'fifty', 'seven', 'fifty', 'bye']\n"
     ]
    }
   ],
   "source": [
    "str4 = str4.split()\n",
    "print(str4)"
   ]
  },
  {
   "cell_type": "code",
   "execution_count": 43,
   "id": "939523d6-8643-4521-a922-5ecd796021a3",
   "metadata": {},
   "outputs": [
    {
     "data": {
      "text/plain": [
       "[3, 7, 9]"
      ]
     },
     "execution_count": 43,
     "metadata": {},
     "output_type": "execute_result"
    }
   ],
   "source": [
    "list = []\n",
    "for index,value in enumerate(str4):\n",
    "    if value == 'fifty':\n",
    "        list.append(index)\n",
    "\n",
    "list"
   ]
  },
  {
   "cell_type": "code",
   "execution_count": null,
   "id": "b6bd93d7-2511-408b-8eeb-b1a48ad8eb12",
   "metadata": {},
   "outputs": [],
   "source": [
    "age_list=[34,2,11,78,45]\n",
    "\n",
    "for index,value in age_list:\n",
    "    print(index"
   ]
  },
  {
   "cell_type": "code",
   "execution_count": null,
   "id": "20d2fd79-6df8-45a1-9195-5b5e679e7c1c",
   "metadata": {},
   "outputs": [],
   "source": [
    "a = 200\n",
    "b = 33\n",
    "c = 500\n",
    "if a > b or a > c:\n",
    "    print("
   ]
  },
  {
   "cell_type": "code",
   "execution_count": 1,
   "id": "7406ae61-f7fd-4d7d-81d8-8c82481dcccd",
   "metadata": {},
   "outputs": [
    {
     "name": "stdout",
     "output_type": "stream",
     "text": [
      "a\n",
      "b\n"
     ]
    }
   ],
   "source": [
    "x = 20\n",
    "\n",
    "if x > 10:\n",
    "    print(\"a\")\n",
    "    if x > 15:\n",
    "        print(\"b\")\n",
    "else:\n",
    "    print(\"c\")"
   ]
  },
  {
   "cell_type": "code",
   "execution_count": 3,
   "id": "834585bb-ccc0-4698-991d-7a6f2023e978",
   "metadata": {},
   "outputs": [
    {
     "ename": "SyntaxError",
     "evalue": "expected ':' (1744258853.py, line 5)",
     "output_type": "error",
     "traceback": [
      "\u001b[1;36m  Cell \u001b[1;32mIn[3], line 5\u001b[1;36m\u001b[0m\n\u001b[1;33m    else number%4==0:\u001b[0m\n\u001b[1;37m         ^\u001b[0m\n\u001b[1;31mSyntaxError\u001b[0m\u001b[1;31m:\u001b[0m expected ':'\n"
     ]
    }
   ],
   "source": [
    "number = 12\n",
    "\n",
    "if number%2==0 and number%3==0:\n",
    "    print(\"a\")\n",
    "else number%4==0:\n",
    "    print(\"b\")"
   ]
  },
  {
   "cell_type": "code",
   "execution_count": 5,
   "id": "4710cc5c-e599-4822-8b06-6bf496e4d06f",
   "metadata": {},
   "outputs": [
    {
     "name": "stdout",
     "output_type": "stream",
     "text": [
      "0\n",
      "1\n",
      "2\n",
      "3\n",
      "4\n",
      "5\n",
      "6\n",
      "7\n",
      "8\n",
      "9\n"
     ]
    }
   ],
   "source": [
    "for i in range(10):\n",
    "    print(i)"
   ]
  },
  {
   "cell_type": "code",
   "execution_count": 6,
   "id": "25c67e29-bf64-4ee0-830a-a8d612aa8599",
   "metadata": {},
   "outputs": [
    {
     "name": "stdout",
     "output_type": "stream",
     "text": [
      "1\n",
      "0 1\n",
      "1 2\n",
      "2 3\n",
      "3 4\n",
      "2\n",
      "0 1\n",
      "1 2\n",
      "2 3\n",
      "3 4\n",
      "3\n",
      "0 1\n",
      "1 2\n",
      "2 3\n",
      "3 4\n",
      "4\n",
      "0 1\n",
      "1 2\n",
      "2 3\n",
      "3 4\n"
     ]
    }
   ],
   "source": [
    "a = [1,2,3,4,]\n",
    "\n",
    "for i in a:\n",
    "    print(i)\n",
    "    for i,v in enumerate(a):\n",
    "        print(i,v)"
   ]
  },
  {
   "cell_type": "code",
   "execution_count": 7,
   "id": "986acf45-ae2a-424d-a566-c2b683a4cc8e",
   "metadata": {},
   "outputs": [
    {
     "name": "stdout",
     "output_type": "stream",
     "text": [
      "10\n",
      "9\n",
      "8\n",
      "7\n",
      "6\n",
      "5\n",
      "4\n",
      "3\n",
      "2\n"
     ]
    }
   ],
   "source": [
    "for i in range(10,1,-1):\n",
    "    print(i)"
   ]
  },
  {
   "cell_type": "code",
   "execution_count": 13,
   "id": "71d6274a-e6d3-47b1-90c0-ca12a01c5a07",
   "metadata": {},
   "outputs": [
    {
     "name": "stdout",
     "output_type": "stream",
     "text": [
      "S\n",
      "a\n",
      "n\n",
      "t\n",
      "o\n",
      "s\n",
      "h\n"
     ]
    }
   ],
   "source": [
    "name = 'Santosh'\n",
    "\n",
    "for index in range(len(name)):\n",
    "    print(name[index])"
   ]
  },
  {
   "cell_type": "code",
   "execution_count": 16,
   "id": "f799e169-1dd1-44da-9f22-c0eead80f3cb",
   "metadata": {},
   "outputs": [
    {
     "name": "stdout",
     "output_type": "stream",
     "text": [
      "1 1\n",
      "2 2\n",
      "3 3\n",
      "4 4\n",
      "5 5\n",
      "6 6\n",
      "1 1\n",
      "2 2\n",
      "3 3\n",
      "4 4\n",
      "5 5\n",
      "6 6\n",
      "1 1\n",
      "2 2\n",
      "3 3\n",
      "4 4\n",
      "5 5\n",
      "6 6\n",
      "1 1\n",
      "2 2\n",
      "3 3\n",
      "4 4\n",
      "5 5\n",
      "6 6\n",
      "1 1\n",
      "2 2\n",
      "3 3\n",
      "4 4\n",
      "5 5\n",
      "6 6\n",
      "1 1\n",
      "2 2\n",
      "3 3\n",
      "4 4\n",
      "5 5\n",
      "6 6\n"
     ]
    }
   ],
   "source": [
    "a = [1,2,3,4,5,6]\n",
    "\n",
    "for index in range(len(a)):\n",
    "    for i,v in enumerate(a):\n",
    "        print(i+1,v)"
   ]
  },
  {
   "cell_type": "code",
   "execution_count": 15,
   "id": "066c826f-ce0f-4a34-80ba-523a2e493e5e",
   "metadata": {},
   "outputs": [
    {
     "name": "stdout",
     "output_type": "stream",
     "text": [
      "1 1\n",
      "2 2\n",
      "3 3\n",
      "4 4\n",
      "5 5\n",
      "6 6\n"
     ]
    }
   ],
   "source": [
    "a = [1,2,3,4,5,6]\n",
    "\n",
    "for i,v in enumerate(a):\n",
    "    print(i+1,v)"
   ]
  },
  {
   "cell_type": "code",
   "execution_count": 17,
   "id": "37aae391-4b53-46cb-aaf6-721ede0444fb",
   "metadata": {},
   "outputs": [
    {
     "name": "stdout",
     "output_type": "stream",
     "text": [
      "s\n",
      "a\n",
      "n\n",
      "t\n",
      "o\n",
      "s\n",
      "h\n"
     ]
    }
   ],
   "source": [
    "a = 'santosh'\n",
    "\n",
    "for i in a:\n",
    "    print(i)"
   ]
  },
  {
   "cell_type": "code",
   "execution_count": 22,
   "id": "15ad3bc2-dfe3-4855-933d-016506440d83",
   "metadata": {},
   "outputs": [
    {
     "name": "stdout",
     "output_type": "stream",
     "text": [
      "*\n",
      "**\n",
      "***\n",
      "****\n",
      "*****\n"
     ]
    }
   ],
   "source": [
    "for i in range(0,5):\n",
    "    for i in range(0,i+1):\n",
    "        print('*',end = \"\")\n",
    "    print()"
   ]
  },
  {
   "cell_type": "code",
   "execution_count": 23,
   "id": "29b78b1e-451b-41f8-b624-bb4ae10ff531",
   "metadata": {},
   "outputs": [
    {
     "ename": "SyntaxError",
     "evalue": "unexpected character after line continuation character (2864416899.py, line 3)",
     "output_type": "error",
     "traceback": [
      "\u001b[1;36m  Cell \u001b[1;32mIn[23], line 3\u001b[1;36m\u001b[0m\n\u001b[1;33m    print('*',\\n)\u001b[0m\n\u001b[1;37m               ^\u001b[0m\n\u001b[1;31mSyntaxError\u001b[0m\u001b[1;31m:\u001b[0m unexpected character after line continuation character\n"
     ]
    }
   ],
   "source": [
    "for i in range(0,5):\n",
    "    for i in range(0,i+1):\n",
    "        print('*',\\n)\n",
    "    print()"
   ]
  },
  {
   "cell_type": "code",
   "execution_count": 24,
   "id": "5aabd5ec-03fe-4196-b4ab-53c64ca3f8d5",
   "metadata": {},
   "outputs": [
    {
     "name": "stdout",
     "output_type": "stream",
     "text": [
      "ab\n"
     ]
    }
   ],
   "source": [
    "a = ['a', 'b']\n",
    "b = ''.join(a)\n",
    "print(b)"
   ]
  },
  {
   "cell_type": "code",
   "execution_count": 25,
   "id": "6f2e524b-bd2c-461d-9593-6db52e27e365",
   "metadata": {},
   "outputs": [
    {
     "name": "stdout",
     "output_type": "stream",
     "text": [
      "['s', 'a', 'n', 't', 'o', 's', 'h']\n"
     ]
    }
   ],
   "source": [
    "a = 'santosh'\n",
    "b = [i for i in a]\n",
    "print(b)"
   ]
  },
  {
   "cell_type": "code",
   "execution_count": 26,
   "id": "c989f98d-a5b6-479f-b16d-89bda4b857f1",
   "metadata": {},
   "outputs": [
    {
     "name": "stdout",
     "output_type": "stream",
     "text": [
      "[0, 3, 6, 9, 12, 15, 18, 21, 24, 27, 30, 33, 36, 39]\n"
     ]
    }
   ],
   "source": [
    "c = [i for i in range(40) if i%3==0]\n",
    "print(c)"
   ]
  },
  {
   "cell_type": "code",
   "execution_count": 27,
   "id": "d35c2dba-9fe0-484f-a2b2-999d3cace0bd",
   "metadata": {},
   "outputs": [],
   "source": [
    "d = [num*2 for num in range(5)]"
   ]
  },
  {
   "cell_type": "code",
   "execution_count": 28,
   "id": "36e2b444-b7c0-4781-835c-2518afe5ffce",
   "metadata": {},
   "outputs": [
    {
     "name": "stdout",
     "output_type": "stream",
     "text": [
      "[0, 2, 4, 6, 8]\n"
     ]
    }
   ],
   "source": [
    "print(d)"
   ]
  },
  {
   "cell_type": "code",
   "execution_count": null,
   "id": "ab8ac4b9-f3df-4e2b-be3a-cd1dd2b86e75",
   "metadata": {},
   "outputs": [],
   "source": [
    "e = [i for i in "
   ]
  },
  {
   "cell_type": "code",
   "execution_count": 29,
   "id": "0dd69cf2-98c3-4ddc-9b70-521735d14e43",
   "metadata": {},
   "outputs": [
    {
     "data": {
      "text/plain": [
       "dict_keys([1, 2])"
      ]
     },
     "execution_count": 29,
     "metadata": {},
     "output_type": "execute_result"
    }
   ],
   "source": [
    "a = {1:'a', 2:'b'}\n",
    "a.keys()"
   ]
  },
  {
   "cell_type": "code",
   "execution_count": 30,
   "id": "60ea19ae-5265-4eda-8b20-ff904faed14f",
   "metadata": {},
   "outputs": [
    {
     "data": {
      "text/plain": [
       "dict_values(['a', 'b'])"
      ]
     },
     "execution_count": 30,
     "metadata": {},
     "output_type": "execute_result"
    }
   ],
   "source": [
    "a.values()"
   ]
  },
  {
   "cell_type": "code",
   "execution_count": 35,
   "id": "86f7f359-9fa3-4a7b-820a-818ba4da98e4",
   "metadata": {},
   "outputs": [],
   "source": [
    "z = a.items()"
   ]
  },
  {
   "cell_type": "code",
   "execution_count": 36,
   "id": "fd26fe22-dee8-428a-9335-640f826ff414",
   "metadata": {},
   "outputs": [
    {
     "name": "stdout",
     "output_type": "stream",
     "text": [
      "dict_items([(1, 'a'), (2, 'b')])\n"
     ]
    }
   ],
   "source": [
    "print(z)"
   ]
  },
  {
   "cell_type": "code",
   "execution_count": null,
   "id": "b2f4baf3-13c4-4e1a-9c87-cad9758b2945",
   "metadata": {},
   "outputs": [],
   "source": []
  },
  {
   "cell_type": "code",
   "execution_count": 33,
   "id": "15e0e1a3-969e-4006-b0fe-b5995f5d223e",
   "metadata": {},
   "outputs": [
    {
     "ename": "TypeError",
     "evalue": "'dict_items' object is not subscriptable",
     "output_type": "error",
     "traceback": [
      "\u001b[1;31m---------------------------------------------------------------------------\u001b[0m",
      "\u001b[1;31mTypeError\u001b[0m                                 Traceback (most recent call last)",
      "Cell \u001b[1;32mIn[33], line 1\u001b[0m\n\u001b[1;32m----> 1\u001b[0m z[\u001b[38;5;241m0\u001b[39m]\n",
      "\u001b[1;31mTypeError\u001b[0m: 'dict_items' object is not subscriptable"
     ]
    }
   ],
   "source": [
    "z[0]"
   ]
  },
  {
   "cell_type": "code",
   "execution_count": 41,
   "id": "77b9a1f8-c2aa-4414-8ad3-afb99aeb1e27",
   "metadata": {},
   "outputs": [],
   "source": [
    "keys = {'a', 'b', 'c', 'd'}\n",
    "values = [10]\n",
    "b = dict.fromkeys(keys, values)"
   ]
  },
  {
   "cell_type": "code",
   "execution_count": 42,
   "id": "f122301f-1103-4291-9835-6032e960e2b0",
   "metadata": {},
   "outputs": [
    {
     "name": "stdout",
     "output_type": "stream",
     "text": [
      "{'a': [10], 'b': [10], 'd': [10], 'c': [10]}\n"
     ]
    }
   ],
   "source": [
    "print(b)"
   ]
  },
  {
   "cell_type": "code",
   "execution_count": 43,
   "id": "7ee52ade-4858-4178-a6cc-7b7cc4639fd6",
   "metadata": {},
   "outputs": [],
   "source": [
    "values.append(2)"
   ]
  },
  {
   "cell_type": "code",
   "execution_count": 45,
   "id": "3242381a-68ef-4c6e-871d-382d87e32a4f",
   "metadata": {},
   "outputs": [
    {
     "name": "stdout",
     "output_type": "stream",
     "text": [
      "{'a': [10, 2], 'b': [10, 2], 'd': [10, 2], 'c': [10, 2]}\n"
     ]
    }
   ],
   "source": [
    "print(b)"
   ]
  },
  {
   "cell_type": "code",
   "execution_count": 46,
   "id": "21865b2a-9241-41fe-bb0f-df65581da8eb",
   "metadata": {},
   "outputs": [
    {
     "data": {
      "text/plain": [
       "[10, 2]"
      ]
     },
     "execution_count": 46,
     "metadata": {},
     "output_type": "execute_result"
    }
   ],
   "source": [
    "b.get('a')"
   ]
  },
  {
   "cell_type": "code",
   "execution_count": 48,
   "id": "5c1dae02-ffbf-48c0-bad7-9738ce12910f",
   "metadata": {},
   "outputs": [],
   "source": [
    "a = {1 : 'a', 2 : 'b'}\n"
   ]
  },
  {
   "cell_type": "code",
   "execution_count": 49,
   "id": "90ba613e-7234-4f37-9b25-f96e9b693f61",
   "metadata": {},
   "outputs": [
    {
     "data": {
      "text/plain": [
       "'a'"
      ]
     },
     "execution_count": 49,
     "metadata": {},
     "output_type": "execute_result"
    }
   ],
   "source": [
    "a[1]"
   ]
  },
  {
   "cell_type": "code",
   "execution_count": 50,
   "id": "4c9e2439-aa74-4e46-b053-00e1fc0f2dcf",
   "metadata": {},
   "outputs": [
    {
     "name": "stdout",
     "output_type": "stream",
     "text": [
      "1 --- a\n",
      "2 --- b\n"
     ]
    }
   ],
   "source": [
    "for i in a:\n",
    "    print(i, '---', a[i])"
   ]
  },
  {
   "cell_type": "code",
   "execution_count": 51,
   "id": "825eb4cb-0e55-4e56-b60c-632ea803c597",
   "metadata": {},
   "outputs": [
    {
     "name": "stdout",
     "output_type": "stream",
     "text": [
      "1 a\n",
      "2 b\n"
     ]
    }
   ],
   "source": [
    "for i in a:\n",
    "    print(i, a.get(i))"
   ]
  },
  {
   "cell_type": "code",
   "execution_count": 52,
   "id": "0e4c986d-c7e3-4ee7-b119-32edad122c0b",
   "metadata": {},
   "outputs": [
    {
     "name": "stdout",
     "output_type": "stream",
     "text": [
      "(1, 'a')\n",
      "(2, 'b')\n"
     ]
    }
   ],
   "source": [
    "for i in a.items():\n",
    "    print(i)"
   ]
  },
  {
   "cell_type": "code",
   "execution_count": 53,
   "id": "756c8656-385a-43e5-96f5-aa04ec167b3f",
   "metadata": {},
   "outputs": [
    {
     "data": {
      "text/plain": [
       "{1: 1, 2: 2, 3: 3, 4: 4, 5: 5, 6: 6, 7: 7}"
      ]
     },
     "execution_count": 53,
     "metadata": {},
     "output_type": "execute_result"
    }
   ],
   "source": [
    "keys = [1,2,3,4,5,6,7]\n",
    "values = [1,2,3,4,5,6,7]\n",
    "\n",
    "c = {k:v for k,v in zip(keys, values)}\n",
    "c"
   ]
  },
  {
   "cell_type": "code",
   "execution_count": 54,
   "id": "f3569a82-22bf-44ea-9306-f60cda1dc089",
   "metadata": {},
   "outputs": [],
   "source": [
    "d = {k:v for k,v in zip(keys,values)}"
   ]
  },
  {
   "cell_type": "code",
   "execution_count": 55,
   "id": "f8e0c8ea-e11a-468d-89ed-9038448226dc",
   "metadata": {},
   "outputs": [
    {
     "data": {
      "text/plain": [
       "{1: 1, 2: 2, 3: 3, 4: 4, 5: 5, 6: 6, 7: 7}"
      ]
     },
     "execution_count": 55,
     "metadata": {},
     "output_type": "execute_result"
    }
   ],
   "source": [
    "d\n"
   ]
  },
  {
   "cell_type": "code",
   "execution_count": 56,
   "id": "d1bcde9a-1929-4f1c-8604-efcfc155fe6e",
   "metadata": {},
   "outputs": [],
   "source": [
    "mydict1 = {'a':10 , 'b':20 , 'c':30 , 'd':40 , 'e':50}"
   ]
  },
  {
   "cell_type": "code",
   "execution_count": 57,
   "id": "a61035c9-ad10-4ef5-aba6-724098d1be3e",
   "metadata": {},
   "outputs": [
    {
     "data": {
      "text/plain": [
       "{'a': 10, 'b': 20, 'c': 30, 'd': 40, 'e': 50}"
      ]
     },
     "execution_count": 57,
     "metadata": {},
     "output_type": "execute_result"
    }
   ],
   "source": [
    "d = {k:v for k,v in mydict1.items()}\n",
    "d"
   ]
  },
  {
   "cell_type": "code",
   "execution_count": 58,
   "id": "e326c09d-f15e-4427-a34d-7e9c1f4d88cf",
   "metadata": {},
   "outputs": [
    {
     "data": {
      "text/plain": [
       "{0: 'N',\n",
       " 1: 'a',\n",
       " 2: 't',\n",
       " 3: 'u',\n",
       " 4: 'r',\n",
       " 5: 'a',\n",
       " 6: 'l',\n",
       " 7: ' ',\n",
       " 8: 'L',\n",
       " 9: 'a',\n",
       " 10: 'n',\n",
       " 11: 'g',\n",
       " 12: 'u',\n",
       " 13: 'a',\n",
       " 14: 'g',\n",
       " 15: 'e',\n",
       " 16: ' ',\n",
       " 17: 'P',\n",
       " 18: 'r',\n",
       " 19: 'o',\n",
       " 20: 'c',\n",
       " 21: 'e',\n",
       " 22: 's',\n",
       " 23: 's',\n",
       " 24: 'i',\n",
       " 25: 'n',\n",
       " 26: 'g'}"
      ]
     },
     "execution_count": 58,
     "metadata": {},
     "output_type": "execute_result"
    }
   ],
   "source": [
    "str1 = \"Natural Language Processing\"\n",
    "e = {k:v for k,v in enumerate(str1)}\n",
    "e"
   ]
  },
  {
   "cell_type": "code",
   "execution_count": 60,
   "id": "8fc4c010-8576-4871-a608-e5c2dd29a0fd",
   "metadata": {},
   "outputs": [
    {
     "data": {
      "text/plain": [
       "{'N': 'N',\n",
       " 'a': 'A',\n",
       " 't': 'T',\n",
       " 'u': 'U',\n",
       " 'r': 'R',\n",
       " 'l': 'L',\n",
       " ' ': ' ',\n",
       " 'L': 'L',\n",
       " 'n': 'N',\n",
       " 'g': 'G',\n",
       " 'e': 'E',\n",
       " 'P': 'P',\n",
       " 'o': 'O',\n",
       " 'c': 'C',\n",
       " 's': 'S',\n",
       " 'i': 'I'}"
      ]
     },
     "execution_count": 60,
     "metadata": {},
     "output_type": "execute_result"
    }
   ],
   "source": [
    "w = {i:i.upper() for i in str1}\n",
    "w"
   ]
  },
  {
   "cell_type": "code",
   "execution_count": null,
   "id": "f3f543b5-feeb-46f0-8f65-9ecc758c406d",
   "metadata": {},
   "outputs": [],
   "source": []
  },
  {
   "cell_type": "code",
   "execution_count": null,
   "id": "0fc38e13-e146-47c7-a4f0-5b767129c444",
   "metadata": {},
   "outputs": [],
   "source": []
  }
 ],
 "metadata": {
  "kernelspec": {
   "display_name": "Python 3 (ipykernel)",
   "language": "python",
   "name": "python3"
  },
  "language_info": {
   "codemirror_mode": {
    "name": "ipython",
    "version": 3
   },
   "file_extension": ".py",
   "mimetype": "text/x-python",
   "name": "python",
   "nbconvert_exporter": "python",
   "pygments_lexer": "ipython3",
   "version": "3.12.4"
  }
 },
 "nbformat": 4,
 "nbformat_minor": 5
}
